{
  "cells": [
    {
      "cell_type": "markdown",
      "metadata": {
        "id": "kzX_ApYhZ_3M"
      },
      "source": [
        "# **Implementing Threading and Multi Threading 1**"
      ]
    },
    {
      "cell_type": "code",
      "execution_count": null,
      "metadata": {
        "id": "dLpgeM9cXm9g"
      },
      "outputs": [],
      "source": [
        "from itertools import combinations\n",
        "import time\n",
        "import threading\n"
      ]
    },
    {
      "cell_type": "code",
      "execution_count": null,
      "metadata": {
        "id": "b9qmleF2bdqd"
      },
      "outputs": [],
      "source": [
        "def subsets(arr: set) -> list: #function annotation used to determine the retrun type of the function\n",
        "  subsets = []\n",
        "  [subsets.extend(list(combinations(arr, n))) for n in range(len(arr))]\n",
        "  return subsets\n",
        "\n",
        "def prime(a):\n",
        "  num = sum(a)\n",
        "  for i in range(2,num):\n",
        "    if num%i==0:\n",
        "      return False\n",
        "  return True\n",
        "\n",
        "def send(Y):\n",
        "  l1 = []\n",
        "  for i in Y:\n",
        "    if prime(i):\n",
        "      l1.append(i)\n",
        "\n",
        "x = list(range(1,26))\n",
        "\n"
      ]
    },
    {
      "cell_type": "code",
      "execution_count": null,
      "metadata": {
        "colab": {
          "base_uri": "https://localhost:8080/"
        },
        "id": "b9zo5BQgczKY",
        "outputId": "83e64d91-9b07-445c-9513-704495533e26"
      },
      "outputs": [
        {
          "name": "stdout",
          "output_type": "stream",
          "text": [
            "Time taken for execution is: 95.5691442489624\n"
          ]
        }
      ],
      "source": [
        "#a\n",
        "start = time.time()\n",
        "g = subsets(x)\n",
        "send(g)\n",
        "end = time.time()\n",
        "\n",
        "print('Time taken for execution is:',end-start)\n"
      ]
    },
    {
      "cell_type": "code",
      "execution_count": null,
      "metadata": {
        "colab": {
          "base_uri": "https://localhost:8080/"
        },
        "id": "J_9UPYLuf4z8",
        "outputId": "57af2114-7a40-4e3d-e3b8-365305927941"
      },
      "outputs": [
        {
          "name": "stdout",
          "output_type": "stream",
          "text": [
            "Time taken for execution is:  102.4120044708252\n"
          ]
        }
      ],
      "source": [
        "#b\n",
        "start = time.time()\n",
        "h = subsets(x)\n",
        "threads = 2\n",
        "\n",
        "\n",
        "t1 = threading.Thread(target = send, args = (h[:len(h)//2],))\n",
        "t2 = threading.Thread(target=send,args = (h[len(h)//2:len(h)],))\n",
        "\n",
        "t1.start()\n",
        "t2.start()\n",
        "\n",
        "t1.join()\n",
        "t2.join()\n",
        "\n",
        "end = time.time()\n",
        "\n",
        "print('Time taken for execution is: ',end-start)"
      ]
    },
    {
      "cell_type": "markdown",
      "metadata": {
        "id": "tIOfH0KaapbF"
      },
      "source": [
        "# **Implementing Threading and Multi Threading 2**"
      ]
    },
    {
      "cell_type": "code",
      "execution_count": null,
      "metadata": {
        "id": "0Zbsuo5xe8Z9"
      },
      "outputs": [],
      "source": [
        "import requests\n",
        "import time\n",
        "import threading"
      ]
    },
    {
      "cell_type": "code",
      "execution_count": null,
      "metadata": {
        "id": "wwsGuQ8eaxvc"
      },
      "outputs": [],
      "source": [
        "url = \"https://raw.githubusercontent.com/dwyl/english-words/master/words.txt\"\n",
        "res = requests.get(url)  #sending get request to the url\n",
        "data = res.text\n",
        "l = data.split('\\n') #splitting string to list\n",
        "\n",
        "def palindrome_check(i,j,l):\n",
        "  l2 =[]\n",
        "  for position in range(i,j):\n",
        "    if l[position][::-1] == l[position]:\n",
        "      l2.append(l[position])\n",
        "    return l2\n"
      ]
    },
    {
      "cell_type": "code",
      "execution_count": null,
      "metadata": {
        "colab": {
          "base_uri": "https://localhost:8080/"
        },
        "id": "KAep6JplgWqd",
        "outputId": "dd2d3ad8-6055-4f01-de03-e521d3661c54"
      },
      "outputs": [
        {
          "name": "stdout",
          "output_type": "stream",
          "text": [
            "Time taken for execution is:  6.723403930664062e-05\n"
          ]
        }
      ],
      "source": [
        "#Option - A\n",
        "start = time.time()\n",
        "l3= palindrome_check(0,len(l),l)\n",
        "end = time.time()\n",
        "print(\"Time taken for execution is: \", end-start)\n"
      ]
    },
    {
      "cell_type": "code",
      "execution_count": null,
      "metadata": {
        "colab": {
          "base_uri": "https://localhost:8080/"
        },
        "id": "3N6oF4j6jEvH",
        "outputId": "a7915432-fe01-4c50-a177-039155b4e3b8"
      },
      "outputs": [
        {
          "name": "stdout",
          "output_type": "stream",
          "text": [
            "Time Taken - 1661056886.6136975\n"
          ]
        }
      ],
      "source": [
        "#Option - B - for threads = 3\n",
        "start = time.time()\n",
        "\n",
        "threads = 3\n",
        "n = len(l)\n",
        "thread_handle = []\n",
        "start = 0\n",
        "end = n//3\n",
        "\n",
        "for i in range(3):\n",
        "  t = threading.Thread(target= palindrome_check, args = (start, end, l))\n",
        "  thread_handle.append(t)\n",
        "  t.start()\n",
        "  (start,end)=(end,end+(n//3))\n",
        "\n",
        "for j in range(threads):\n",
        "  thread_handle[j].join()\n",
        "\n",
        "end = time.time()\n",
        "print(\"Time Taken -\", end-start)\n"
      ]
    },
    {
      "cell_type": "markdown",
      "metadata": {
        "id": "oMBeUmaZg-Nc"
      },
      "source": [
        "# **Implementing Threading and Multi Threading 3**"
      ]
    },
    {
      "cell_type": "code",
      "execution_count": null,
      "metadata": {
        "id": "HCVqkMe0p0Du"
      },
      "outputs": [],
      "source": [
        "import cv2\n",
        "def processImage(image):\n",
        "  image = cv2.imread(image)\n",
        "  image = cv2.cvtColor(src=image, code=cv2.COLOR_BGR2GRAY)\n",
        "  return image\n",
        "\n",
        "def convolve2D(image, kernel, padding=0, strides=1):\n",
        "    # Cross Correlation\n",
        "    kernel = np.flipud(np.fliplr(kernel))\n",
        "\n",
        "    # Gather Shapes of Kernel + Image + Padding\n",
        "    xKernShape = kernel.shape[0]\n",
        "    yKernShape = kernel.shape[1]\n",
        "    xImgShape = image.shape[0]\n",
        "    yImgShape = image.shape[1]\n",
        "\n",
        "    # Shape of Output Convolution\n",
        "    xOutput = int(((xImgShape - xKernShape + 2 * padding) / strides) + 1)\n",
        "    yOutput = int(((yImgShape - yKernShape + 2 * padding) / strides) + 1)\n",
        "    output = np.zeros((xOutput, yOutput))\n",
        "\n",
        "    # Apply Equal Padding to All Sides\n",
        "    if padding != 0:\n",
        "        imagePadded = np.zeros((image.shape[0] + padding*2, image.shape[1] + padding*2))\n",
        "        imagePadded[int(padding):int(-1 * padding), int(padding):int(-1 * padding)] = image\n",
        "        print(imagePadded)\n",
        "    else:\n",
        "        imagePadded = image\n",
        "\n",
        "    # Iterate through image\n",
        "    for y in range(image.shape[1]):\n",
        "        # Exit Convolution\n",
        "        if y > image.shape[1] - yKernShape:\n",
        "            break\n",
        "        # Only Convolve if y has gone down by the specified Strides\n",
        "        if y % strides == 0:\n",
        "            for x in range(image.shape[0]):\n",
        "                # Go to next row once kernel is out of bounds\n",
        "                if x > image.shape[0] - xKernShape:\n",
        "                    break\n",
        "                try:\n",
        "                    # Only Convolve if x has moved by the specified Strides\n",
        "                    if x % strides == 0:\n",
        "                        output[x, y] = (kernel * imagePadded[x: x + xKernShape, y: y + yKernShape]).sum()\n",
        "                except:\n",
        "                    break\n",
        "\n",
        "    return output\n",
        "if __name__ == '__main__':\n",
        "    # Grayscale Image\n",
        "    image = processImage('trump.png')\n",
        "\n",
        "    # Edge Detection Kernel\n",
        "    kernel = np.array([[-1, -1, -1], [-1, 8, -1], [-1, -1, -1]])\n",
        "\n",
        "    # Convolve and Save Output\n",
        "    output = convolve2D(image, kernel, padding=2)\n",
        "    cv2.imwrite('2DConvolved.jpg', output)"
      ]
    },
    {
      "cell_type": "code",
      "execution_count": null,
      "metadata": {
        "id": "0U8CvyI6qcCB"
      },
      "outputs": [],
      "source": [
        "import cv2\n",
        "import numpy as np\n",
        "import matplotlib.pyplot as plt\n",
        "\n",
        "# Reading the image from the disk using cv2.imread() function\n",
        "# Showing the original image using matplotlib library function plt.imshow()\n",
        "img = cv2.imread('trump.png')\n",
        "plt.imshow(img)\n",
        "plt.show()\n",
        "\n",
        "# Apply kernel for sharpening\n",
        "sharp_kernel = np.array([[1, 0, -1],\n",
        "                    [1, 0, -1],\n",
        "                    [1, 0, -1]])\n",
        "\n",
        "# Sharpeneded image is obtained using the variable sharp_img\n",
        "# cv2.fliter2D() is the function used\n",
        "# src is the source of image(here, img)\n",
        "# ddepth is destination depth. -1 will mean output image will have same depth as input image\n",
        "# kernel is used for specifying the kernel operation (here, sharp_kernel)\n",
        "sharp_img = cv2.filter2D(src=img, ddepth=-1, kernel=sharp_kernel)\n",
        "\n",
        "# Showing the sharpened image using matplotlib library function plt.imshow()\n",
        "plt.imshow(sharp_img)\n",
        "plt.show()"
      ]
    }
  ],
  "metadata": {
    "colab": {
      "provenance": []
    },
    "kernelspec": {
      "display_name": "Python 3",
      "language": "python",
      "name": "python3"
    },
    "language_info": {
      "codemirror_mode": {
        "name": "ipython",
        "version": 3
      },
      "file_extension": ".py",
      "mimetype": "text/x-python",
      "name": "python",
      "nbconvert_exporter": "python",
      "pygments_lexer": "ipython3",
      "version": "3.8.3"
    }
  },
  "nbformat": 4,
  "nbformat_minor": 0
}